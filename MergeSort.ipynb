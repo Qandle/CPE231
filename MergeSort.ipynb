{
  "nbformat": 4,
  "nbformat_minor": 0,
  "metadata": {
    "colab": {
      "name": "MergeSort.ipynb",
      "provenance": [],
      "authorship_tag": "ABX9TyPSVBqohL3lCWeRRiqJrBkn",
      "include_colab_link": true
    },
    "kernelspec": {
      "name": "python3",
      "display_name": "Python 3"
    },
    "language_info": {
      "name": "python"
    }
  },
  "cells": [
    {
      "cell_type": "markdown",
      "metadata": {
        "id": "view-in-github",
        "colab_type": "text"
      },
      "source": [
        "<a href=\"https://colab.research.google.com/github/Qandle/CPE231/blob/main/MergeSort.ipynb\" target=\"_parent\"><img src=\"https://colab.research.google.com/assets/colab-badge.svg\" alt=\"Open In Colab\"/></a>"
      ]
    },
    {
      "cell_type": "code",
      "source": [
        "import math"
      ],
      "metadata": {
        "id": "9CALF37o_W-o"
      },
      "execution_count": 11,
      "outputs": []
    },
    {
      "cell_type": "code",
      "execution_count": 12,
      "metadata": {
        "id": "2373MjBq0ciP"
      },
      "outputs": [],
      "source": [
        "CharList=['M', 'O', 'N', 'G', 'K', 'U', 'T']\n",
        "Count=0"
      ]
    },
    {
      "cell_type": "code",
      "source": [
        "def merge(A, L, R, K):\n",
        "  i = j = 0\n",
        "  B = []\n",
        "  while i<len(L) and j<len(R):\n",
        "    K+=1\n",
        "    if L[i] < R[j]:\n",
        "      B.append(L[i])\n",
        "      i+=1\n",
        "    else:\n",
        "      B.append(R[j])\n",
        "      j+=1\n",
        "\n",
        "  while i < len(L):\n",
        "    B.append(L[i])\n",
        "    i+=1\n",
        "  while j < len(R):\n",
        "    B.append(R[j])\n",
        "    j+=1\n",
        "  return B, K"
      ],
      "metadata": {
        "id": "p4waKOCJGKxX"
      },
      "execution_count": 13,
      "outputs": []
    },
    {
      "cell_type": "code",
      "source": [
        "def mergeSort(A, K):\n",
        "  if len(A) > 1:\n",
        "    M = math.ceil((len(A)-1)/2)\n",
        "    L = A[:M]\n",
        "    R = A[M:]\n",
        "    L, KLeft = mergeSort(L, K)\n",
        "    R, KRight = mergeSort(R, K)\n",
        "    A, d = merge(A, L, R, K)\n",
        "    K += d + KLeft + KRight\n",
        "  return A ,K"
      ],
      "metadata": {
        "id": "wKkdD9XfB56C"
      },
      "execution_count": 14,
      "outputs": []
    },
    {
      "cell_type": "code",
      "source": [
        "NewList, Count = mergeSort(CharList, Count)\n",
        "print('Sorted Array =', NewList)\n",
        "print('Count =', Count)\n",
        "print(list(map(lambda x: ord(x)-ord('A')+1 , NewList)))"
      ],
      "metadata": {
        "colab": {
          "base_uri": "https://localhost:8080/"
        },
        "id": "KL_a612KEtFK",
        "outputId": "f1d9f9b8-d96c-4731-daf9-f5f2c701eda7"
      },
      "execution_count": 15,
      "outputs": [
        {
          "output_type": "stream",
          "name": "stdout",
          "text": [
            "Sorted Array = ['G', 'K', 'M', 'N', 'O', 'T', 'U']\n",
            "Count = 11\n",
            "[7, 11, 13, 14, 15, 20, 21]\n"
          ]
        }
      ]
    }
  ]
}