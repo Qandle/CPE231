{
 "cells": [
  {
   "cell_type": "code",
   "execution_count": 17,
   "metadata": {},
   "outputs": [],
   "source": [
    "import math"
   ]
  },
  {
   "cell_type": "code",
   "execution_count": 18,
   "metadata": {},
   "outputs": [],
   "source": [
    "# Sample Test\n",
    "CharList = ['M', 'O', 'N', 'G', 'K', 'U', 'T']\n",
    "numberList = [5, 1, 7, 2, 3, 9]\n",
    "\n",
    "# For Runtime Compare Experiment\n",
    "cmpRound = 0"
   ]
  },
  {
   "cell_type": "code",
   "execution_count": 19,
   "metadata": {},
   "outputs": [],
   "source": [
    "def partition (arr):\n",
    "    n = len(arr)\n",
    "    pivot = arr[0]\n",
    "    i = 1\n",
    "    j = n-1\n",
    "    while i<j:\n",
    "        while arr[i] < pivot:\n",
    "            i+=1\n",
    "        # print(arr[i])\n",
    "        while arr[j] > pivot:\n",
    "            j-=1\n",
    "        arr[i], arr[j] = arr[j], arr[i]\n",
    "    arr[i], arr[j] = arr[j], arr[i]\n",
    "    arr[0], arr[j] = arr[j], arr[0]\n",
    "    print(arr)\n",
    "    return j"
   ]
  },
  {
   "cell_type": "code",
   "execution_count": 20,
   "metadata": {},
   "outputs": [
    {
     "name": "stdout",
     "output_type": "stream",
     "text": [
      "\u001b[6;30;42m [2, 1, 3, 5, 7, 9] \u001b[0m\n",
      "\u001b[6;30;42m [1, 2, 3] \u001b[0m\n",
      "\u001b[6;30;42m [7, 9] \u001b[0m\n",
      "[1, 2, 3, 5, 7, 9]\n"
     ]
    }
   ],
   "source": [
    "def quick (arr):\n",
    "    n = len(arr)\n",
    "    if n > 1:\n",
    "        pivot = arr[0]\n",
    "        i = 1\n",
    "        j = n-1\n",
    "        while i<=j:\n",
    "            while arr[i] < pivot:\n",
    "                i+=1\n",
    "            # print(arr[i])\n",
    "            while arr[j] > pivot:\n",
    "                j-=1\n",
    "            arr[i], arr[j] = arr[j], arr[i]\n",
    "        arr[i], arr[j] = arr[j], arr[i]\n",
    "        arr[0], arr[j] = arr[j], arr[0]\n",
    "        print('\\x1b[6;30;42m' , arr , '\\x1b[0m')\n",
    "        # print(\"wow\",arr[:j] ,\"mid\", [arr[j]] + arr[j+1:])\n",
    "        return quick(arr[:j]) + [arr[j]] + quick(arr[j+1:])\n",
    "    if n == 1:\n",
    "        return [arr[0]]\n",
    "    return []\n",
    "print(quick(numberList))\n",
    "            "
   ]
  }
 ],
 "metadata": {
  "kernelspec": {
   "display_name": "Python 3.10.5 64-bit",
   "language": "python",
   "name": "python3"
  },
  "language_info": {
   "codemirror_mode": {
    "name": "ipython",
    "version": 3
   },
   "file_extension": ".py",
   "mimetype": "text/x-python",
   "name": "python",
   "nbconvert_exporter": "python",
   "pygments_lexer": "ipython3",
   "version": "3.10.5"
  },
  "orig_nbformat": 4,
  "vscode": {
   "interpreter": {
    "hash": "369f2c481f4da34e4445cda3fffd2e751bd1c4d706f27375911949ba6bb62e1c"
   }
  }
 },
 "nbformat": 4,
 "nbformat_minor": 2
}
